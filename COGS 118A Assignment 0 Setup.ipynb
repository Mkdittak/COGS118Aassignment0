{
 "cells": [
  {
   "cell_type": "markdown",
   "metadata": {},
   "source": [
    "# COGS 118A- Assignment 0: Setting Up by Qiyuan Wu and Owen Zhang\n",
    "\n",
    "This assignment covers the coding environment of the course\n",
    "\n",
    "This assignment is out of 15 points, worth 5% of your grade."
   ]
  },
  {
   "cell_type": "markdown",
   "metadata": {},
   "source": [
    "The following couple cells are checks that you are running the right tools for these assignments."
   ]
  },
  {
   "cell_type": "code",
   "execution_count": null,
   "metadata": {},
   "outputs": [],
   "source": [
    "# These assignments require Python 3 (not Python 2).\n",
    "# Run this cell to check your version of Python.\n",
    "import sys\n",
    "assert sys.version_info[0] == 3, \"You must use Python 3 (preferably 3.6 or 3.7) for these assignments.\""
   ]
  },
  {
   "cell_type": "code",
   "execution_count": null,
   "metadata": {},
   "outputs": [],
   "source": [
    "# Run this cell to check your version of IPython. \n",
    "# If you get an error (the message prints out), stop and upgrade Jupyter.\n",
    "import IPython\n",
    "assert IPython.version_info[0] >= 3, \"Your version of IPython is too old, please update it.\""
   ]
  },
  {
   "cell_type": "markdown",
   "metadata": {},
   "source": [
    "This part of the assignment is focused on some practice with Python and on practicing working with the format of the assignments.\n",
    "\n",
    "This class assumes some prior knowledge of Python. In the following questions, you will need to work with basic (standard library) data types (floats, lists, dictionaries, etc.) and control flow (conditionals, loops, functions, etc). If the questions in this section are unfamiliar to you, you may need to revisit some practice materials to catch up with some of the programming.\n",
    "\n",
    "Through these questions, we will also prompt you to use a couple of slightly more advanced standard library functions (for example, 'enumerate' and 'zip') that may be new to you.\n",
    "\n",
    "Each question should be answerable with a relatively small number of lines of code, up to about 5-7 lines at most."
   ]
  },
  {
   "cell_type": "code",
   "execution_count": null,
   "metadata": {},
   "outputs": [],
   "source": [
    "# PRINTING VARIABLES\n",
    "# A reminder that you can (and should) print and check variables as you go.\n",
    "#  This allows you to check what values they hold and debug if anything unexpected happens.\n",
    "\n",
    "# Define a variable\n",
    "math_result = 2 * 4\n",
    "\n",
    "# Print out the value(s) of a variable.\n",
    "print(math_result)"
   ]
  },
  {
   "cell_type": "markdown",
   "metadata": {},
   "source": [
    "## Question 1: Defining variables (0.5 points)\n",
    "\n",
    "Define a tuple called `var_a`, that contains the numbers 1-10 (inclusively).\n",
    "Define a list called `var_b`, that contains individual letters a-j (inclusively)."
   ]
  },
  {
   "cell_type": "code",
   "execution_count": null,
   "metadata": {},
   "outputs": [],
   "source": [
    "# YOUR CODE HERE\n"
   ]
  },
  {
   "cell_type": "code",
   "execution_count": null,
   "metadata": {},
   "outputs": [],
   "source": [
    "# Tests for Q1\n",
    "\n",
    "# These tests check that the variables are defined.\n",
    "assert var_a\n",
    "assert var_b\n",
    "\n",
    "# These tests check that the variables are the right data types\n",
    "assert isinstance(var_a, tuple)\n",
    "assert isinstance(var_b, list)"
   ]
  },
  {
   "cell_type": "markdown",
   "metadata": {},
   "source": [
    "## Question 2: Defining Variables, Part II (0.5 points)\n",
    "\n",
    "Create a Python dict called `dictionary` where the keys are the elements in `var_b` and the values are the corresponding elements in `var_a`.\n",
    "\n",
    "The `zip` function may be useful.\n",
    "\n",
    "You might also make use of a Python dictionary comprehension."
   ]
  },
  {
   "cell_type": "code",
   "execution_count": null,
   "metadata": {},
   "outputs": [],
   "source": [
    "# YOUR CODE HERE\n",
    "dictionary=\n",
    "\n",
    "\n",
    "# These tests check that the dictionary has the right data types\n",
    "assert isinstance(dictionary,dict)\n",
    "\n",
    "print(dictionary) # Do not delete"
   ]
  },
  {
   "cell_type": "markdown",
   "metadata": {},
   "source": [
    "## Question 3: Control Flow (1 point)\n",
    "Loop through the provided list `lst`. For each element, check if it is an even number. If the element is an even number, append the INDEX of that element to the list `inds`.\n",
    "\n",
    "Note that you are adding the index to `inds`, **not the element itself**.\n",
    "   \n",
    "Hint: To check if a number is even, you can use the modulo `%` operator.\n",
    "\n",
    "Hint: to loop through an iterable, keeping track of the index, you can use the `enumerate` function."
   ]
  },
  {
   "cell_type": "code",
   "execution_count": null,
   "metadata": {},
   "outputs": [],
   "source": [
    "# These variables are provided to you.\n",
    "lst = [1, 2, 3, 4, 5, 6, 7, 8, 9, 10, 11, 12, 13, 14, 15]\n",
    "inds = []\n",
    "\n",
    "# YOUR CODE HERE\n",
    "\n",
    "\n",
    "\n",
    "print(inds) # Do not delete"
   ]
  },
  {
   "cell_type": "markdown",
   "metadata": {},
   "source": [
    "## Question 4: Functions (1 point)\n",
    "\n",
    "Write a function `squared_diff` that takes two number inputs and returns the squared difference of the two numbers i.e. $(a - b)^2$. For example:\n",
    "\n",
    "```python\n",
    ">>> squared_diff(2, 4)\n",
    "4\n",
    ">>> squared_diff(10, 1)\n",
    "81\n",
    "```"
   ]
  },
  {
   "cell_type": "code",
   "execution_count": null,
   "metadata": {},
   "outputs": [],
   "source": [
    "...  # YOUR CODE HERE\n",
    "\n",
    "assert squared_diff(2,4) == 4     # Do not delete\n",
    "assert squared_diff(10,1) == 81   # Do not delete\n",
    "assert squared_diff(-10,2) == 144 # Do not delete\n",
    "assert squared_diff(15,16) == 1   # Do not delete\n",
    "assert squared_diff(16,16) == 0   # Do not delete"
   ]
  },
  {
   "cell_type": "markdown",
   "metadata": {},
   "source": [
    "## Question 5: Putting it all together (1 point)\n",
    "\n",
    "Create a dictionary named `second_dictionary`. It should have the key-value pairs as `dictionary` (the variable we created in question 2), unless the original value is odd. If so, the value in `second_dictionary` should be the squared difference of the original value and 10.\n",
    "\n",
    "Note: to loop through key-value pairs in a dictionary, check out the `.items` method."
   ]
  },
  {
   "cell_type": "code",
   "execution_count": null,
   "metadata": {},
   "outputs": [],
   "source": [
    "second_dictionary = dict()\n",
    "# YOUR CODE HERE\n",
    "\n",
    "\n",
    "\n",
    "\n",
    "print(second_dictionary) # Do not delete\n",
    "\n",
    "assert second_dictionary['a'] == 81   # Do not delete\n",
    "assert second_dictionary['c'] == 49   # Do not delete"
   ]
  },
  {
   "cell_type": "markdown",
   "metadata": {},
   "source": [
    "## Question 6: Data Science Modules (1 point)\n",
    "\n",
    "This question is just about importing the core data science modules. We won't start using them yet.\n",
    "\n",
    "This is just to test that you have them available and working (this is the only time we'll ask you to write out your own imported modules in assignments).\n",
    "\n",
    "If you have not loaded those modules into your environment yet, you can run the `!pip install < package name >` command. \n",
    "\n",
    "If you are unable to import them, ask for help during office hours.\n",
    "\n",
    "Import the numpy, scipy, pandas, matplotlib.pyplot, sklearn modules as np, sp, pd, plt, skl, respectively."
   ]
  },
  {
   "cell_type": "code",
   "execution_count": null,
   "metadata": {},
   "outputs": [],
   "source": [
    "# YOUR CODE HERE\n"
   ]
  },
  {
   "cell_type": "code",
   "execution_count": null,
   "metadata": {},
   "outputs": [],
   "source": [
    "# Tests for Q6\n",
    "assert(np.array)        # Do not delete\n",
    "assert(sp.integrate)      # Do not delete\n",
    "assert(pd.DataFrame)    # Do not delete\n",
    "assert(plt.plot)        # Do not delete\n",
    "assert(skl.set_config)  # Do not delete"
   ]
  },
  {
   "cell_type": "markdown",
   "metadata": {},
   "source": [
    "## Question 7: Basic Matrix Operations (4 points)\n",
    "Define,\n",
    "$$ A = \\begin{bmatrix} 3&5&2 \\\\ 6&1&7 \\\\ 2&5&2 \\end{bmatrix} $$\n",
    "$$ b = \\begin{bmatrix} 1 \\\\ 1 \\\\ 1 \\end{bmatrix} $$\n",
    "$$ Y = \\begin{bmatrix} 4 \\\\ 3 \\\\ 2 \\end{bmatrix} $$ \n",
    "$$ Ax+b = Y $$ \n",
    "\n",
    "Find x.\n",
    "\n",
    "Hint: Use numpy.linalg.inv and the @ operator for matrix multiplication."
   ]
  },
  {
   "cell_type": "code",
   "execution_count": null,
   "metadata": {},
   "outputs": [],
   "source": [
    "# YOUR CODE HERE\n",
    "\n",
    "\n",
    "print(x)                         # Do not delete\n",
    "assert isinstance(x, np.ndarray) # Do not delete"
   ]
  },
  {
   "cell_type": "markdown",
   "metadata": {},
   "source": [
    "## Question 8: Data Manipulation (5 points)\n",
    "In this question, we will be using the Iris dataset. First, you need to obtain the dataset by running `from sklearn import datasets` and `iris = datasets.load_iris()`. \n",
    "\n",
    "1. Print the shape of the dataset. You will see that the dataset has 150 samples, and each sample has 4 features. (Note: the `load_iris` method returns a dictionary-like object, and the dataset is stored in one of the object attributes) (0.5 point)\n"
   ]
  },
  {
   "cell_type": "code",
   "execution_count": null,
   "metadata": {},
   "outputs": [],
   "source": [
    "# YOUR CODE HERE"
   ]
  },
  {
   "cell_type": "markdown",
   "metadata": {},
   "source": [
    "2. Print the last three samples of the dataset. (0.5 point)"
   ]
  },
  {
   "cell_type": "code",
   "execution_count": null,
   "metadata": {},
   "outputs": [],
   "source": [
    "# YOUR CODE HERE"
   ]
  },
  {
   "cell_type": "markdown",
   "metadata": {},
   "source": [
    "3. Perform a linear projection on the samples using vector $w = [1,2,3,4]$. We can do this by calculating the dot product between the data points and the vector $w$. The shape of the output vector should be (150,) or (150,1). Find and print the $\\textbf{mean}$ of the projected vector, which is a single value. Hint: You can use numpy.dot for calculating the dot product.  This problem can be solved using a single line of code. (2 points)"
   ]
  },
  {
   "cell_type": "code",
   "execution_count": null,
   "metadata": {},
   "outputs": [],
   "source": [
    "# YOUR CODE HERE"
   ]
  },
  {
   "cell_type": "markdown",
   "metadata": {},
   "source": [
    "4. Randomly select 3 samples (rows) from the dataset. Print the indices $\\textbf{and}$ the selected data points. Hint: Use numpy.random.randint to sample the indices. (1 point)"
   ]
  },
  {
   "cell_type": "code",
   "execution_count": null,
   "metadata": {},
   "outputs": [],
   "source": [
    "# YOUR CODE HERE"
   ]
  },
  {
   "cell_type": "markdown",
   "metadata": {},
   "source": [
    "5. Add one more feature (one more column) to the right side of the dataset. The value of this new feature for each sample is 1. Print the first 5 samples of the new dataset. (1 point) Hint: Use numpy.ones and numpy.hstack. "
   ]
  },
  {
   "cell_type": "code",
   "execution_count": null,
   "metadata": {},
   "outputs": [],
   "source": [
    "# YOUR CODE HERE  "
   ]
  },
  {
   "cell_type": "markdown",
   "metadata": {},
   "source": [
    "## Question 9: Data Presentation (1 point)\n",
    "Use Matplotlib to plot the samples on a 2D plot. Use the values of the first and second features as the x and y coordinates. Make sure it is a scatter plot. "
   ]
  },
  {
   "cell_type": "code",
   "execution_count": null,
   "metadata": {},
   "outputs": [],
   "source": [
    "# YOUR CODE HERE  "
   ]
  },
  {
   "cell_type": "markdown",
   "metadata": {},
   "source": [
    "## Submission:\n",
    "Please submit your notebook (.ipynb file) on GradeScope under the correct assignment with all of the cell outputs visible. \n",
    "Must run all cells before submission. \n"
   ]
  }
 ],
 "metadata": {
  "kernelspec": {
   "display_name": "Python 3 (ipykernel)",
   "language": "python",
   "name": "python3"
  },
  "language_info": {
   "codemirror_mode": {
    "name": "ipython",
    "version": 3
   },
   "file_extension": ".py",
   "mimetype": "text/x-python",
   "name": "python",
   "nbconvert_exporter": "python",
   "pygments_lexer": "ipython3",
   "version": "3.13.5"
  },
  "vscode": {
   "interpreter": {
    "hash": "77eee26a74623a023872d1bc89eff3417ddfa96c1608d48d76f7b381bf2c2567"
   }
  }
 },
 "nbformat": 4,
 "nbformat_minor": 4
}
